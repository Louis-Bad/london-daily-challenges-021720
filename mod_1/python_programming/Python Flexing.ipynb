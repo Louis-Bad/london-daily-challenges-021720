{
 "cells": [
  {
   "cell_type": "markdown",
   "metadata": {},
   "source": [
    "# Python Skills "
   ]
  },
  {
   "cell_type": "markdown",
   "metadata": {},
   "source": [
    "In this last code challenge, we'll revisit some of the core skills we looked at last week. Here we will give you a chance to practice working with lists, dictionaries, loops, and other data structures in Python. \n",
    "\n",
    "In this daily challenge, we will work with a dictionary of data regarding meta-data for some bands."
   ]
  },
  {
   "cell_type": "code",
   "execution_count": 13,
   "metadata": {},
   "outputs": [],
   "source": [
    "bands = {\n",
    "    'Bjork': {\n",
    "        'age': 54,\n",
    "        'nationality': 'Icelandic',\n",
    "        'albums': ['Debut','Post','Homogenic','Utopia']\n",
    "    },\n",
    "    'Madonna': {\n",
    "        'age': 61,\n",
    "        'nationality': 'American',\n",
    "        'albums': ['Madonna', 'Like a Virgin', 'Ray of Light','Like a Prayer']\n",
    "    },\n",
    "    'Dr. Dre': {\n",
    "        'age': 55,\n",
    "        'nationality': 'American',\n",
    "        'albums': ['The Chronic', '2001', 'Compton']\n",
    "    },\n",
    "    'Lil Nas X': {\n",
    "        'age': 27,\n",
    "        'nationality': 'American',\n",
    "        'albumns': ['7']\n",
    "    },\n",
    "    'Lang Lang': {\n",
    "        'age': 27,\n",
    "        'nationality': 'Chinese',\n",
    "        'albums': ['Dreams of China', 'The Mozart Album']\n",
    "    }\n",
    "}"
   ]
  },
  {
   "cell_type": "markdown",
   "metadata": {},
   "source": [
    "## Task 1\n",
    "\n",
    "For the first part of this challenge, extract out all of the the names of the artists. You _could_ do this with a for loop, but there is also an easier way! Save the results into an object calle `artists`. Make sure your output works!"
   ]
  },
  {
   "cell_type": "code",
   "execution_count": 14,
   "metadata": {},
   "outputs": [],
   "source": [
    "artists = list(bands.keys())"
   ]
  },
  {
   "cell_type": "code",
   "execution_count": 15,
   "metadata": {},
   "outputs": [
    {
     "name": "stdout",
     "output_type": "stream",
     "text": [
      "['Bjork', 'Madonna', 'Dr. Dre', 'Lil Nas X', 'Lang Lang']\n"
     ]
    }
   ],
   "source": [
    "print(artists)"
   ]
  },
  {
   "cell_type": "markdown",
   "metadata": {},
   "source": [
    "## Task 2 "
   ]
  },
  {
   "cell_type": "markdown",
   "metadata": {},
   "source": [
    "Next create a list of tuples the contain both the artist's name and their nationality."
   ]
  },
  {
   "cell_type": "markdown",
   "metadata": {},
   "source": [
    "The output should look something like # Ex: [('Bjork', 'Icelandic'), ('Madonna', 'American'), ...]\n"
   ]
  },
  {
   "cell_type": "code",
   "execution_count": 18,
   "metadata": {},
   "outputs": [
    {
     "data": {
      "text/plain": [
       "[('Bjork', 'Icelandic'),\n",
       " ('Madonna', 'American'),\n",
       " ('Dr. Dre', 'American'),\n",
       " ('Lil Nas X', 'American'),\n",
       " ('Lang Lang', 'Chinese')]"
      ]
     },
     "execution_count": 18,
     "metadata": {},
     "output_type": "execute_result"
    }
   ],
   "source": [
    "artist_list = []\n",
    "for artist in bands:\n",
    "    artist_list.append((artist, bands[artist]['nationality']))\n",
    "    \n",
    "artist_list"
   ]
  },
  {
   "cell_type": "markdown",
   "metadata": {},
   "source": [
    "## Task 3 "
   ]
  },
  {
   "cell_type": "markdown",
   "metadata": {},
   "source": [
    "Lastly, define a function that when given a nationality, will return all of the artists with that nationality! For example, if you were to write `get_artist_nationality('American')` it would return Madonna, Dr. Dre, and Lil Nas X. "
   ]
  },
  {
   "cell_type": "code",
   "execution_count": 19,
   "metadata": {},
   "outputs": [],
   "source": [
    "def get_artist_nationality(nation):\n",
    "    same_nation = []\n",
    "    for artist in artist_list:\n",
    "        if nation == artist[1]:\n",
    "            same_nation.append(artist[0])\n",
    "    return same_nation\n",
    "        "
   ]
  },
  {
   "cell_type": "code",
   "execution_count": 23,
   "metadata": {},
   "outputs": [
    {
     "data": {
      "text/plain": [
       "['Madonna', 'Dr. Dre', 'Lil Nas X']"
      ]
     },
     "execution_count": 23,
     "metadata": {},
     "output_type": "execute_result"
    }
   ],
   "source": [
    "get_artist_nationality('American')"
   ]
  },
  {
   "cell_type": "markdown",
   "metadata": {},
   "source": []
  }
 ],
 "metadata": {
  "kernelspec": {
   "display_name": "Python 3",
   "language": "python",
   "name": "python3"
  },
  "language_info": {
   "codemirror_mode": {
    "name": "ipython",
    "version": 3
   },
   "file_extension": ".py",
   "mimetype": "text/x-python",
   "name": "python",
   "nbconvert_exporter": "python",
   "pygments_lexer": "ipython3",
   "version": "3.6.6"
  }
 },
 "nbformat": 4,
 "nbformat_minor": 2
}
